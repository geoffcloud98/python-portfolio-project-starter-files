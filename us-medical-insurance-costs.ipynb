{
 "cells": [
  {
   "cell_type": "markdown",
   "metadata": {},
   "source": [
    "# U.S. Medical Insurance Costs"
   ]
  },
  {
   "cell_type": "markdown",
   "metadata": {},
   "source": [
    "In this project a <strong>csv</strong> file with medical insurance costs will be investigated using Python fundamentals. The goal of this project is to analyze the various features within <strong>insurance.csv</strong> to learn more about the patient information in the file and gain insight into potential use cases for the dataset."
   ]
  },
  {
   "cell_type": "code",
   "execution_count": 19,
   "metadata": {},
   "outputs": [],
   "source": [
    "#import csv library\n",
    "import csv \n",
    "\n",
    "#import analysis functions\n",
    "from AnalysisFunctions import Analyze\n"
   ]
  },
  {
   "cell_type": "markdown",
   "metadata": {},
   "source": [
    "To start, we'll be importing the csv library in order to read the <strong>insurance.csv</strong> file and the <b>Analyze.py</b> module for our analysis functions.  \n",
    "The next step is to look into <strong>insurance.csv</strong> to get familiar with the data. The features of the data will be checked in order to plan out how to imprt the data into a Python file:\n",
    "<ul>\n",
    "    <li>Column names and rows</li>\n",
    "    <li>Any missing data</li>\n",
    "    <li>Types of values (numericial vs categorical)</li>\n",
    "</ul>"
   ]
  },
  {
   "cell_type": "code",
   "execution_count": 22,
   "metadata": {},
   "outputs": [],
   "source": [
    "#Create empty lists for the various features in insurance.csv\n",
    "age = []\n",
    "sex = []\n",
    "bmi = []\n",
    "children = []\n",
    "smoker = []\n",
    "region = []\n",
    "charges = []"
   ]
  },
  {
   "cell_type": "markdown",
   "metadata": {},
   "source": [
    "Next we read <strong>insurance.csv</strong> and save it as a temporary file called <i>insurance_file</i>\n",
    "We use the csv function <i>DictReader</i> to read the files contents and store it into a variable called <i>insurance_data</i>. The variable <i>insurance_data</i> is a dictionary object where the first row in <b>insurance.csv</b> are the keys. \n",
    "\n",
    "Next we are looping through the <i>isurance_data</i> and storing values in the correct list we declared previously for each row."
   ]
  },
  {
   "cell_type": "code",
   "execution_count": 25,
   "metadata": {},
   "outputs": [
    {
     "name": "stdout",
     "output_type": "stream",
     "text": [
      "['age', 'sex', 'bmi', 'children', 'smoker', 'region', 'charges']\n"
     ]
    }
   ],
   "source": [
    "with open('insurance.csv', 'r', newline = '') as insurance_file:\n",
    "    insurance_data = csv.DictReader(insurance_file)\n",
    "    print(insurance_data.fieldnames)\n",
    "\n",
    "    #Iterate over the rows and append data\n",
    "    for row in insurance_data:\n",
    "        age.append(int(row['age']))\n",
    "        sex.append(row['sex'])\n",
    "        bmi.append(row['bmi'])\n",
    "        children.append(row['children'])\n",
    "        smoker.append(row['smoker'])\n",
    "        region.append(row['region'])\n",
    "        charges.append(row['charges'])"
   ]
  },
  {
   "cell_type": "markdown",
   "metadata": {},
   "source": [
    "We are going to initialize our <b>Analyze</b> object in order to run functions with the data we've collected and display the results. "
   ]
  },
  {
   "cell_type": "code",
   "execution_count": 28,
   "metadata": {},
   "outputs": [
    {
     "name": "stdout",
     "output_type": "stream",
     "text": [
      "The average age in this dataset is: 39.21\n",
      "The most common region in this data set is the: southeast region with a count of: 364 out of 1338.\n",
      "Displaying results of the probabilty than an individual with one or more children are male or female.\n",
      "\n",
      "{'Male Probability': 0.51, 'Female Probability': 0.49, 'Total Individuals With Children': 764}\n"
     ]
    }
   ],
   "source": [
    "analyzer = Analyze()\n",
    "analyzer.PrintAverageAge(age)\n",
    "analyzer.MostCommonRegion(region)\n",
    "print(analyzer.ProbabilityMaleOrFemale(sex, children))\n"
   ]
  },
  {
   "cell_type": "code",
   "execution_count": null,
   "metadata": {},
   "outputs": [],
   "source": []
  }
 ],
 "metadata": {
  "kernelspec": {
   "display_name": "Python 3 (ipykernel)",
   "language": "python",
   "name": "python3"
  },
  "language_info": {
   "codemirror_mode": {
    "name": "ipython",
    "version": 3
   },
   "file_extension": ".py",
   "mimetype": "text/x-python",
   "name": "python",
   "nbconvert_exporter": "python",
   "pygments_lexer": "ipython3",
   "version": "3.12.4"
  }
 },
 "nbformat": 4,
 "nbformat_minor": 4
}
