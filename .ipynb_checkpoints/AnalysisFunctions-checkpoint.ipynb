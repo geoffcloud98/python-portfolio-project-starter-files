{
 "cells": [
  {
   "cell_type": "code",
   "execution_count": 8,
   "id": "a526d570-afe5-4ffc-83f4-59ac1804e54c",
   "metadata": {},
   "outputs": [],
   "source": [
    "class Analayze:\n",
    "\n",
    "    #Calculate and return average age\n",
    "    def AverageAge(ages):\n",
    "        sum, count, average_age = 0\n",
    "        for age in ages:\n",
    "            sum += age\n",
    "            count += 1\n",
    "        return sum/count\n",
    "\n",
    "    #print average age\n",
    "    def PrintAverageAge(ages):\n",
    "        print(AverageAge(ages))\n",
    "    \n",
    "            "
   ]
  },
  {
   "cell_type": "code",
   "execution_count": null,
   "id": "eaf43a4a-6c5a-497a-af1d-6bf49dabce3c",
   "metadata": {},
   "outputs": [],
   "source": []
  }
 ],
 "metadata": {
  "kernelspec": {
   "display_name": "Python 3 (ipykernel)",
   "language": "python",
   "name": "python3"
  },
  "language_info": {
   "codemirror_mode": {
    "name": "ipython",
    "version": 3
   },
   "file_extension": ".py",
   "mimetype": "text/x-python",
   "name": "python",
   "nbconvert_exporter": "python",
   "pygments_lexer": "ipython3",
   "version": "3.12.4"
  }
 },
 "nbformat": 4,
 "nbformat_minor": 5
}
